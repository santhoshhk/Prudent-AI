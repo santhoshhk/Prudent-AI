{
 "cells": [
  {
   "cell_type": "code",
   "execution_count": 1,
   "id": "90902858",
   "metadata": {
    "execution": {
     "iopub.execute_input": "2023-12-07T08:08:05.902993Z",
     "iopub.status.busy": "2023-12-07T08:08:05.902393Z",
     "iopub.status.idle": "2023-12-07T08:08:07.597969Z",
     "shell.execute_reply": "2023-12-07T08:08:07.596501Z"
    },
    "papermill": {
     "duration": 1.719633,
     "end_time": "2023-12-07T08:08:07.600997",
     "exception": false,
     "start_time": "2023-12-07T08:08:05.881364",
     "status": "completed"
    },
    "tags": []
   },
   "outputs": [],
   "source": [
    "import numpy as np\n",
    "import pandas as pd\n",
    "import matplotlib.pyplot as plt\n",
    "import seaborn as sns"
   ]
  },
  {
   "cell_type": "code",
   "execution_count": 2,
   "id": "3f3f24a1",
   "metadata": {},
   "outputs": [
    {
     "name": "stdout",
     "output_type": "stream",
     "text": [
      "Requirement already satisfied: openpyxl in c:\\users\\santhosh\\anaconda3\\lib\\site-packages (3.0.10)\n",
      "Requirement already satisfied: et_xmlfile in c:\\users\\santhosh\\anaconda3\\lib\\site-packages (from openpyxl) (1.1.0)\n"
     ]
    }
   ],
   "source": [
    "!pip install openpyxl"
   ]
  },
  {
   "cell_type": "code",
   "execution_count": 3,
   "id": "e361279f",
   "metadata": {
    "execution": {
     "iopub.execute_input": "2023-12-07T08:08:07.639768Z",
     "iopub.status.busy": "2023-12-07T08:08:07.638698Z",
     "iopub.status.idle": "2023-12-07T08:08:11.005047Z",
     "shell.execute_reply": "2023-12-07T08:08:11.003906Z"
    },
    "papermill": {
     "duration": 3.389303,
     "end_time": "2023-12-07T08:08:11.008525",
     "exception": false,
     "start_time": "2023-12-07T08:08:07.619222",
     "status": "completed"
    },
    "tags": []
   },
   "outputs": [],
   "source": [
    "book = pd.read_excel('books.xlsx')"
   ]
  },
  {
   "cell_type": "code",
   "execution_count": 4,
   "id": "fd7c4bf8",
   "metadata": {},
   "outputs": [],
   "source": [
    "books=book"
   ]
  },
  {
   "cell_type": "code",
   "execution_count": 5,
   "id": "88a261b5",
   "metadata": {
    "execution": {
     "iopub.execute_input": "2023-12-07T08:08:11.053552Z",
     "iopub.status.busy": "2023-12-07T08:08:11.052227Z",
     "iopub.status.idle": "2023-12-07T08:08:11.078447Z",
     "shell.execute_reply": "2023-12-07T08:08:11.077542Z"
    },
    "papermill": {
     "duration": 0.05119,
     "end_time": "2023-12-07T08:08:11.081231",
     "exception": false,
     "start_time": "2023-12-07T08:08:11.030041",
     "status": "completed"
    },
    "tags": []
   },
   "outputs": [
    {
     "data": {
      "text/html": [
       "<div>\n",
       "<style scoped>\n",
       "    .dataframe tbody tr th:only-of-type {\n",
       "        vertical-align: middle;\n",
       "    }\n",
       "\n",
       "    .dataframe tbody tr th {\n",
       "        vertical-align: top;\n",
       "    }\n",
       "\n",
       "    .dataframe thead th {\n",
       "        text-align: right;\n",
       "    }\n",
       "</style>\n",
       "<table border=\"1\" class=\"dataframe\">\n",
       "  <thead>\n",
       "    <tr style=\"text-align: right;\">\n",
       "      <th></th>\n",
       "      <th>bookID</th>\n",
       "      <th>title</th>\n",
       "      <th>authors</th>\n",
       "      <th>average_rating</th>\n",
       "      <th>isbn</th>\n",
       "      <th>isbn13</th>\n",
       "      <th>language_code</th>\n",
       "      <th>num_pages</th>\n",
       "      <th>ratings_count</th>\n",
       "      <th>text_reviews_count</th>\n",
       "      <th>publication_date</th>\n",
       "      <th>publisher</th>\n",
       "      <th>Unnamed: 12</th>\n",
       "    </tr>\n",
       "  </thead>\n",
       "  <tbody>\n",
       "    <tr>\n",
       "      <th>0</th>\n",
       "      <td>1.0</td>\n",
       "      <td>Harry Potter and the Half-Blood Prince (Harry ...</td>\n",
       "      <td>J.K. Rowling/Mary GrandPrÌ©</td>\n",
       "      <td>4.57</td>\n",
       "      <td>439785960</td>\n",
       "      <td>9780000000000</td>\n",
       "      <td>eng</td>\n",
       "      <td>652</td>\n",
       "      <td>2095690.0</td>\n",
       "      <td>27591.0</td>\n",
       "      <td>2006-09-16 00:00:00</td>\n",
       "      <td>Scholastic Inc.</td>\n",
       "      <td>NaN</td>\n",
       "    </tr>\n",
       "    <tr>\n",
       "      <th>1</th>\n",
       "      <td>2.0</td>\n",
       "      <td>Harry Potter and the Order of the Phoenix (Har...</td>\n",
       "      <td>J.K. Rowling/Mary GrandPrÌ©</td>\n",
       "      <td>4.49</td>\n",
       "      <td>439358078</td>\n",
       "      <td>9780000000000</td>\n",
       "      <td>eng</td>\n",
       "      <td>870</td>\n",
       "      <td>2153167.0</td>\n",
       "      <td>29221.0</td>\n",
       "      <td>2004-09-01 00:00:00</td>\n",
       "      <td>Scholastic Inc.</td>\n",
       "      <td>NaN</td>\n",
       "    </tr>\n",
       "    <tr>\n",
       "      <th>2</th>\n",
       "      <td>4.0</td>\n",
       "      <td>Harry Potter and the Chamber of Secrets (Harry...</td>\n",
       "      <td>J.K. Rowling</td>\n",
       "      <td>4.42</td>\n",
       "      <td>439554896</td>\n",
       "      <td>9780000000000</td>\n",
       "      <td>eng</td>\n",
       "      <td>352</td>\n",
       "      <td>6333.0</td>\n",
       "      <td>244.0</td>\n",
       "      <td>2003-11-01 00:00:00</td>\n",
       "      <td>Scholastic</td>\n",
       "      <td>NaN</td>\n",
       "    </tr>\n",
       "    <tr>\n",
       "      <th>3</th>\n",
       "      <td>5.0</td>\n",
       "      <td>Harry Potter and the Prisoner of Azkaban (Harr...</td>\n",
       "      <td>J.K. Rowling/Mary GrandPrÌ©</td>\n",
       "      <td>4.56</td>\n",
       "      <td>043965548X</td>\n",
       "      <td>9780000000000</td>\n",
       "      <td>eng</td>\n",
       "      <td>435</td>\n",
       "      <td>2339585.0</td>\n",
       "      <td>36325.0</td>\n",
       "      <td>2004-05-01 00:00:00</td>\n",
       "      <td>Scholastic Inc.</td>\n",
       "      <td>NaN</td>\n",
       "    </tr>\n",
       "    <tr>\n",
       "      <th>4</th>\n",
       "      <td>8.0</td>\n",
       "      <td>Harry Potter Boxed Set  Books 1-5 (Harry Potte...</td>\n",
       "      <td>J.K. Rowling/Mary GrandPrÌ©</td>\n",
       "      <td>4.78</td>\n",
       "      <td>439682584</td>\n",
       "      <td>9780000000000</td>\n",
       "      <td>eng</td>\n",
       "      <td>2690</td>\n",
       "      <td>41428.0</td>\n",
       "      <td>164.0</td>\n",
       "      <td>2004-09-13 00:00:00</td>\n",
       "      <td>Scholastic</td>\n",
       "      <td>NaN</td>\n",
       "    </tr>\n",
       "  </tbody>\n",
       "</table>\n",
       "</div>"
      ],
      "text/plain": [
       "   bookID                                              title  \\\n",
       "0     1.0  Harry Potter and the Half-Blood Prince (Harry ...   \n",
       "1     2.0  Harry Potter and the Order of the Phoenix (Har...   \n",
       "2     4.0  Harry Potter and the Chamber of Secrets (Harry...   \n",
       "3     5.0  Harry Potter and the Prisoner of Azkaban (Harr...   \n",
       "4     8.0  Harry Potter Boxed Set  Books 1-5 (Harry Potte...   \n",
       "\n",
       "                       authors average_rating        isbn         isbn13  \\\n",
       "0  J.K. Rowling/Mary GrandPrÌ©           4.57   439785960  9780000000000   \n",
       "1  J.K. Rowling/Mary GrandPrÌ©           4.49   439358078  9780000000000   \n",
       "2                 J.K. Rowling           4.42   439554896  9780000000000   \n",
       "3  J.K. Rowling/Mary GrandPrÌ©           4.56  043965548X  9780000000000   \n",
       "4  J.K. Rowling/Mary GrandPrÌ©           4.78   439682584  9780000000000   \n",
       "\n",
       "  language_code num_pages  ratings_count  text_reviews_count  \\\n",
       "0           eng       652      2095690.0             27591.0   \n",
       "1           eng       870      2153167.0             29221.0   \n",
       "2           eng       352         6333.0               244.0   \n",
       "3           eng       435      2339585.0             36325.0   \n",
       "4           eng      2690        41428.0               164.0   \n",
       "\n",
       "      publication_date        publisher Unnamed: 12  \n",
       "0  2006-09-16 00:00:00  Scholastic Inc.         NaN  \n",
       "1  2004-09-01 00:00:00  Scholastic Inc.         NaN  \n",
       "2  2003-11-01 00:00:00       Scholastic         NaN  \n",
       "3  2004-05-01 00:00:00  Scholastic Inc.         NaN  \n",
       "4  2004-09-13 00:00:00       Scholastic         NaN  "
      ]
     },
     "execution_count": 5,
     "metadata": {},
     "output_type": "execute_result"
    }
   ],
   "source": [
    "books.head()"
   ]
  },
  {
   "cell_type": "code",
   "execution_count": 6,
   "id": "d8dcdb31",
   "metadata": {
    "execution": {
     "iopub.execute_input": "2023-12-07T08:08:11.121710Z",
     "iopub.status.busy": "2023-12-07T08:08:11.120542Z",
     "iopub.status.idle": "2023-12-07T08:08:11.128906Z",
     "shell.execute_reply": "2023-12-07T08:08:11.127722Z"
    },
    "papermill": {
     "duration": 0.031483,
     "end_time": "2023-12-07T08:08:11.131517",
     "exception": false,
     "start_time": "2023-12-07T08:08:11.100034",
     "status": "completed"
    },
    "tags": []
   },
   "outputs": [
    {
     "data": {
      "text/plain": [
       "Index(['bookID', 'title', 'authors', 'average_rating', 'isbn', 'isbn13',\n",
       "       'language_code', 'num_pages', 'ratings_count', 'text_reviews_count',\n",
       "       'publication_date', 'publisher', 'Unnamed: 12'],\n",
       "      dtype='object')"
      ]
     },
     "execution_count": 6,
     "metadata": {},
     "output_type": "execute_result"
    }
   ],
   "source": [
    "books.columns"
   ]
  },
  {
   "cell_type": "code",
   "execution_count": 7,
   "id": "9cc11e9f",
   "metadata": {
    "execution": {
     "iopub.execute_input": "2023-12-07T08:08:11.170678Z",
     "iopub.status.busy": "2023-12-07T08:08:11.170245Z",
     "iopub.status.idle": "2023-12-07T08:08:11.205349Z",
     "shell.execute_reply": "2023-12-07T08:08:11.204014Z"
    },
    "papermill": {
     "duration": 0.057965,
     "end_time": "2023-12-07T08:08:11.208372",
     "exception": false,
     "start_time": "2023-12-07T08:08:11.150407",
     "status": "completed"
    },
    "tags": []
   },
   "outputs": [],
   "source": [
    "books.drop([ 'isbn13','Unnamed: 12','language_code','num_pages','ratings_count','text_reviews_count','publication_date'],axis=1,inplace=True)"
   ]
  },
  {
   "cell_type": "code",
   "execution_count": 8,
   "id": "c078ce3f",
   "metadata": {},
   "outputs": [],
   "source": [
    "books.rename(columns={'authors':'author','Year-Of-Publication':'year','Publisher':'publisher','publication_date':'year','isbn':'ISBN'},inplace=True)"
   ]
  },
  {
   "cell_type": "code",
   "execution_count": 9,
   "id": "10096991",
   "metadata": {
    "execution": {
     "iopub.execute_input": "2023-12-07T08:08:11.249348Z",
     "iopub.status.busy": "2023-12-07T08:08:11.248842Z",
     "iopub.status.idle": "2023-12-07T08:08:11.261530Z",
     "shell.execute_reply": "2023-12-07T08:08:11.260675Z"
    },
    "papermill": {
     "duration": 0.036679,
     "end_time": "2023-12-07T08:08:11.264101",
     "exception": false,
     "start_time": "2023-12-07T08:08:11.227422",
     "status": "completed"
    },
    "tags": []
   },
   "outputs": [
    {
     "data": {
      "text/html": [
       "<div>\n",
       "<style scoped>\n",
       "    .dataframe tbody tr th:only-of-type {\n",
       "        vertical-align: middle;\n",
       "    }\n",
       "\n",
       "    .dataframe tbody tr th {\n",
       "        vertical-align: top;\n",
       "    }\n",
       "\n",
       "    .dataframe thead th {\n",
       "        text-align: right;\n",
       "    }\n",
       "</style>\n",
       "<table border=\"1\" class=\"dataframe\">\n",
       "  <thead>\n",
       "    <tr style=\"text-align: right;\">\n",
       "      <th></th>\n",
       "      <th>bookID</th>\n",
       "      <th>title</th>\n",
       "      <th>author</th>\n",
       "      <th>average_rating</th>\n",
       "      <th>ISBN</th>\n",
       "      <th>publisher</th>\n",
       "    </tr>\n",
       "  </thead>\n",
       "  <tbody>\n",
       "    <tr>\n",
       "      <th>0</th>\n",
       "      <td>1.0</td>\n",
       "      <td>Harry Potter and the Half-Blood Prince (Harry ...</td>\n",
       "      <td>J.K. Rowling/Mary GrandPrÌ©</td>\n",
       "      <td>4.57</td>\n",
       "      <td>439785960</td>\n",
       "      <td>Scholastic Inc.</td>\n",
       "    </tr>\n",
       "    <tr>\n",
       "      <th>1</th>\n",
       "      <td>2.0</td>\n",
       "      <td>Harry Potter and the Order of the Phoenix (Har...</td>\n",
       "      <td>J.K. Rowling/Mary GrandPrÌ©</td>\n",
       "      <td>4.49</td>\n",
       "      <td>439358078</td>\n",
       "      <td>Scholastic Inc.</td>\n",
       "    </tr>\n",
       "    <tr>\n",
       "      <th>2</th>\n",
       "      <td>4.0</td>\n",
       "      <td>Harry Potter and the Chamber of Secrets (Harry...</td>\n",
       "      <td>J.K. Rowling</td>\n",
       "      <td>4.42</td>\n",
       "      <td>439554896</td>\n",
       "      <td>Scholastic</td>\n",
       "    </tr>\n",
       "    <tr>\n",
       "      <th>3</th>\n",
       "      <td>5.0</td>\n",
       "      <td>Harry Potter and the Prisoner of Azkaban (Harr...</td>\n",
       "      <td>J.K. Rowling/Mary GrandPrÌ©</td>\n",
       "      <td>4.56</td>\n",
       "      <td>043965548X</td>\n",
       "      <td>Scholastic Inc.</td>\n",
       "    </tr>\n",
       "    <tr>\n",
       "      <th>4</th>\n",
       "      <td>8.0</td>\n",
       "      <td>Harry Potter Boxed Set  Books 1-5 (Harry Potte...</td>\n",
       "      <td>J.K. Rowling/Mary GrandPrÌ©</td>\n",
       "      <td>4.78</td>\n",
       "      <td>439682584</td>\n",
       "      <td>Scholastic</td>\n",
       "    </tr>\n",
       "  </tbody>\n",
       "</table>\n",
       "</div>"
      ],
      "text/plain": [
       "   bookID                                              title  \\\n",
       "0     1.0  Harry Potter and the Half-Blood Prince (Harry ...   \n",
       "1     2.0  Harry Potter and the Order of the Phoenix (Har...   \n",
       "2     4.0  Harry Potter and the Chamber of Secrets (Harry...   \n",
       "3     5.0  Harry Potter and the Prisoner of Azkaban (Harr...   \n",
       "4     8.0  Harry Potter Boxed Set  Books 1-5 (Harry Potte...   \n",
       "\n",
       "                        author average_rating        ISBN        publisher  \n",
       "0  J.K. Rowling/Mary GrandPrÌ©           4.57   439785960  Scholastic Inc.  \n",
       "1  J.K. Rowling/Mary GrandPrÌ©           4.49   439358078  Scholastic Inc.  \n",
       "2                 J.K. Rowling           4.42   439554896       Scholastic  \n",
       "3  J.K. Rowling/Mary GrandPrÌ©           4.56  043965548X  Scholastic Inc.  \n",
       "4  J.K. Rowling/Mary GrandPrÌ©           4.78   439682584       Scholastic  "
      ]
     },
     "execution_count": 9,
     "metadata": {},
     "output_type": "execute_result"
    }
   ],
   "source": [
    "books.head()"
   ]
  },
  {
   "cell_type": "code",
   "execution_count": 10,
   "id": "68e22c70",
   "metadata": {
    "execution": {
     "iopub.execute_input": "2023-12-07T08:08:11.304849Z",
     "iopub.status.busy": "2023-12-07T08:08:11.304019Z",
     "iopub.status.idle": "2023-12-07T08:08:11.311333Z",
     "shell.execute_reply": "2023-12-07T08:08:11.309823Z"
    },
    "papermill": {
     "duration": 0.031014,
     "end_time": "2023-12-07T08:08:11.314611",
     "exception": false,
     "start_time": "2023-12-07T08:08:11.283597",
     "status": "completed"
    },
    "tags": []
   },
   "outputs": [],
   "source": [
    "books.rename(columns={'Book-Title':'title','Book-Author':'author','Year-Of-Publication':'year','Publisher':'publisher'},inplace=True)"
   ]
  },
  {
   "cell_type": "code",
   "execution_count": 11,
   "id": "f1b17122",
   "metadata": {
    "execution": {
     "iopub.execute_input": "2023-12-07T08:08:11.363682Z",
     "iopub.status.busy": "2023-12-07T08:08:11.362873Z",
     "iopub.status.idle": "2023-12-07T08:08:11.376182Z",
     "shell.execute_reply": "2023-12-07T08:08:11.374971Z"
    },
    "papermill": {
     "duration": 0.041908,
     "end_time": "2023-12-07T08:08:11.378849",
     "exception": false,
     "start_time": "2023-12-07T08:08:11.336941",
     "status": "completed"
    },
    "tags": []
   },
   "outputs": [
    {
     "data": {
      "text/html": [
       "<div>\n",
       "<style scoped>\n",
       "    .dataframe tbody tr th:only-of-type {\n",
       "        vertical-align: middle;\n",
       "    }\n",
       "\n",
       "    .dataframe tbody tr th {\n",
       "        vertical-align: top;\n",
       "    }\n",
       "\n",
       "    .dataframe thead th {\n",
       "        text-align: right;\n",
       "    }\n",
       "</style>\n",
       "<table border=\"1\" class=\"dataframe\">\n",
       "  <thead>\n",
       "    <tr style=\"text-align: right;\">\n",
       "      <th></th>\n",
       "      <th>bookID</th>\n",
       "      <th>title</th>\n",
       "      <th>author</th>\n",
       "      <th>average_rating</th>\n",
       "      <th>ISBN</th>\n",
       "      <th>publisher</th>\n",
       "    </tr>\n",
       "  </thead>\n",
       "  <tbody>\n",
       "    <tr>\n",
       "      <th>0</th>\n",
       "      <td>1.0</td>\n",
       "      <td>Harry Potter and the Half-Blood Prince (Harry ...</td>\n",
       "      <td>J.K. Rowling/Mary GrandPrÌ©</td>\n",
       "      <td>4.57</td>\n",
       "      <td>439785960</td>\n",
       "      <td>Scholastic Inc.</td>\n",
       "    </tr>\n",
       "    <tr>\n",
       "      <th>1</th>\n",
       "      <td>2.0</td>\n",
       "      <td>Harry Potter and the Order of the Phoenix (Har...</td>\n",
       "      <td>J.K. Rowling/Mary GrandPrÌ©</td>\n",
       "      <td>4.49</td>\n",
       "      <td>439358078</td>\n",
       "      <td>Scholastic Inc.</td>\n",
       "    </tr>\n",
       "    <tr>\n",
       "      <th>2</th>\n",
       "      <td>4.0</td>\n",
       "      <td>Harry Potter and the Chamber of Secrets (Harry...</td>\n",
       "      <td>J.K. Rowling</td>\n",
       "      <td>4.42</td>\n",
       "      <td>439554896</td>\n",
       "      <td>Scholastic</td>\n",
       "    </tr>\n",
       "    <tr>\n",
       "      <th>3</th>\n",
       "      <td>5.0</td>\n",
       "      <td>Harry Potter and the Prisoner of Azkaban (Harr...</td>\n",
       "      <td>J.K. Rowling/Mary GrandPrÌ©</td>\n",
       "      <td>4.56</td>\n",
       "      <td>043965548X</td>\n",
       "      <td>Scholastic Inc.</td>\n",
       "    </tr>\n",
       "    <tr>\n",
       "      <th>4</th>\n",
       "      <td>8.0</td>\n",
       "      <td>Harry Potter Boxed Set  Books 1-5 (Harry Potte...</td>\n",
       "      <td>J.K. Rowling/Mary GrandPrÌ©</td>\n",
       "      <td>4.78</td>\n",
       "      <td>439682584</td>\n",
       "      <td>Scholastic</td>\n",
       "    </tr>\n",
       "  </tbody>\n",
       "</table>\n",
       "</div>"
      ],
      "text/plain": [
       "   bookID                                              title  \\\n",
       "0     1.0  Harry Potter and the Half-Blood Prince (Harry ...   \n",
       "1     2.0  Harry Potter and the Order of the Phoenix (Har...   \n",
       "2     4.0  Harry Potter and the Chamber of Secrets (Harry...   \n",
       "3     5.0  Harry Potter and the Prisoner of Azkaban (Harr...   \n",
       "4     8.0  Harry Potter Boxed Set  Books 1-5 (Harry Potte...   \n",
       "\n",
       "                        author average_rating        ISBN        publisher  \n",
       "0  J.K. Rowling/Mary GrandPrÌ©           4.57   439785960  Scholastic Inc.  \n",
       "1  J.K. Rowling/Mary GrandPrÌ©           4.49   439358078  Scholastic Inc.  \n",
       "2                 J.K. Rowling           4.42   439554896       Scholastic  \n",
       "3  J.K. Rowling/Mary GrandPrÌ©           4.56  043965548X  Scholastic Inc.  \n",
       "4  J.K. Rowling/Mary GrandPrÌ©           4.78   439682584       Scholastic  "
      ]
     },
     "execution_count": 11,
     "metadata": {},
     "output_type": "execute_result"
    }
   ],
   "source": [
    "books.head()"
   ]
  },
  {
   "cell_type": "code",
   "execution_count": 12,
   "id": "6bd27b64",
   "metadata": {
    "execution": {
     "iopub.execute_input": "2023-12-07T08:08:11.420183Z",
     "iopub.status.busy": "2023-12-07T08:08:11.419542Z",
     "iopub.status.idle": "2023-12-07T08:08:11.581909Z",
     "shell.execute_reply": "2023-12-07T08:08:11.580409Z"
    },
    "papermill": {
     "duration": 0.186694,
     "end_time": "2023-12-07T08:08:11.584696",
     "exception": false,
     "start_time": "2023-12-07T08:08:11.398002",
     "status": "completed"
    },
    "tags": []
   },
   "outputs": [
    {
     "data": {
      "text/plain": [
       "bookID            5\n",
       "title             5\n",
       "author            5\n",
       "average_rating    5\n",
       "ISBN              5\n",
       "publisher         5\n",
       "dtype: int64"
      ]
     },
     "execution_count": 12,
     "metadata": {},
     "output_type": "execute_result"
    }
   ],
   "source": [
    "books.isnull().sum()"
   ]
  },
  {
   "cell_type": "code",
   "execution_count": 13,
   "id": "f5f40b0c",
   "metadata": {
    "execution": {
     "iopub.execute_input": "2023-12-07T08:08:11.627598Z",
     "iopub.status.busy": "2023-12-07T08:08:11.626694Z",
     "iopub.status.idle": "2023-12-07T08:08:11.822224Z",
     "shell.execute_reply": "2023-12-07T08:08:11.820876Z"
    },
    "papermill": {
     "duration": 0.220112,
     "end_time": "2023-12-07T08:08:11.825315",
     "exception": false,
     "start_time": "2023-12-07T08:08:11.605203",
     "status": "completed"
    },
    "tags": []
   },
   "outputs": [],
   "source": [
    "books.dropna(inplace=True)"
   ]
  },
  {
   "cell_type": "code",
   "execution_count": 14,
   "id": "ee3bd419",
   "metadata": {},
   "outputs": [],
   "source": [
    "books['average_rating'] = pd.to_numeric(books['average_rating'], errors='coerce')\n",
    "\n",
    "book_pivot = books.pivot_table(columns='bookID', index='title', values='average_rating')"
   ]
  },
  {
   "cell_type": "code",
   "execution_count": 15,
   "id": "0714662c",
   "metadata": {},
   "outputs": [
    {
     "data": {
      "text/html": [
       "<div>\n",
       "<style scoped>\n",
       "    .dataframe tbody tr th:only-of-type {\n",
       "        vertical-align: middle;\n",
       "    }\n",
       "\n",
       "    .dataframe tbody tr th {\n",
       "        vertical-align: top;\n",
       "    }\n",
       "\n",
       "    .dataframe thead th {\n",
       "        text-align: right;\n",
       "    }\n",
       "</style>\n",
       "<table border=\"1\" class=\"dataframe\">\n",
       "  <thead>\n",
       "    <tr style=\"text-align: right;\">\n",
       "      <th>bookID</th>\n",
       "      <th>1.0</th>\n",
       "      <th>2.0</th>\n",
       "      <th>4.0</th>\n",
       "      <th>5.0</th>\n",
       "      <th>8.0</th>\n",
       "      <th>9.0</th>\n",
       "      <th>10.0</th>\n",
       "      <th>12.0</th>\n",
       "      <th>13.0</th>\n",
       "      <th>14.0</th>\n",
       "      <th>...</th>\n",
       "      <th>45617.0</th>\n",
       "      <th>45623.0</th>\n",
       "      <th>45625.0</th>\n",
       "      <th>45626.0</th>\n",
       "      <th>45630.0</th>\n",
       "      <th>45631.0</th>\n",
       "      <th>45633.0</th>\n",
       "      <th>45634.0</th>\n",
       "      <th>45639.0</th>\n",
       "      <th>45641.0</th>\n",
       "    </tr>\n",
       "    <tr>\n",
       "      <th>title</th>\n",
       "      <th></th>\n",
       "      <th></th>\n",
       "      <th></th>\n",
       "      <th></th>\n",
       "      <th></th>\n",
       "      <th></th>\n",
       "      <th></th>\n",
       "      <th></th>\n",
       "      <th></th>\n",
       "      <th></th>\n",
       "      <th></th>\n",
       "      <th></th>\n",
       "      <th></th>\n",
       "      <th></th>\n",
       "      <th></th>\n",
       "      <th></th>\n",
       "      <th></th>\n",
       "      <th></th>\n",
       "      <th></th>\n",
       "      <th></th>\n",
       "      <th></th>\n",
       "    </tr>\n",
       "  </thead>\n",
       "  <tbody>\n",
       "    <tr>\n",
       "      <th>2023-11-09 00:00:00</th>\n",
       "      <td>0.0</td>\n",
       "      <td>0.0</td>\n",
       "      <td>0.0</td>\n",
       "      <td>0.0</td>\n",
       "      <td>0.0</td>\n",
       "      <td>0.0</td>\n",
       "      <td>0.0</td>\n",
       "      <td>0.0</td>\n",
       "      <td>0.0</td>\n",
       "      <td>0.0</td>\n",
       "      <td>...</td>\n",
       "      <td>0.0</td>\n",
       "      <td>0.0</td>\n",
       "      <td>0.0</td>\n",
       "      <td>0.0</td>\n",
       "      <td>0.0</td>\n",
       "      <td>0.0</td>\n",
       "      <td>0.0</td>\n",
       "      <td>0.0</td>\n",
       "      <td>0.0</td>\n",
       "      <td>0.0</td>\n",
       "    </tr>\n",
       "    <tr>\n",
       "      <th>said the shotgun to the head.</th>\n",
       "      <td>0.0</td>\n",
       "      <td>0.0</td>\n",
       "      <td>0.0</td>\n",
       "      <td>0.0</td>\n",
       "      <td>0.0</td>\n",
       "      <td>0.0</td>\n",
       "      <td>0.0</td>\n",
       "      <td>0.0</td>\n",
       "      <td>0.0</td>\n",
       "      <td>0.0</td>\n",
       "      <td>...</td>\n",
       "      <td>0.0</td>\n",
       "      <td>0.0</td>\n",
       "      <td>0.0</td>\n",
       "      <td>0.0</td>\n",
       "      <td>0.0</td>\n",
       "      <td>0.0</td>\n",
       "      <td>0.0</td>\n",
       "      <td>0.0</td>\n",
       "      <td>0.0</td>\n",
       "      <td>0.0</td>\n",
       "    </tr>\n",
       "    <tr>\n",
       "      <th>$30 Film School: How to Write  Direct  Produce  Shoot  Edit  Distribute  Tour With  and Sell Your Own No-Budget Digital Movie</th>\n",
       "      <td>0.0</td>\n",
       "      <td>0.0</td>\n",
       "      <td>0.0</td>\n",
       "      <td>0.0</td>\n",
       "      <td>0.0</td>\n",
       "      <td>0.0</td>\n",
       "      <td>0.0</td>\n",
       "      <td>0.0</td>\n",
       "      <td>0.0</td>\n",
       "      <td>0.0</td>\n",
       "      <td>...</td>\n",
       "      <td>0.0</td>\n",
       "      <td>0.0</td>\n",
       "      <td>0.0</td>\n",
       "      <td>0.0</td>\n",
       "      <td>0.0</td>\n",
       "      <td>0.0</td>\n",
       "      <td>0.0</td>\n",
       "      <td>0.0</td>\n",
       "      <td>0.0</td>\n",
       "      <td>0.0</td>\n",
       "    </tr>\n",
       "    <tr>\n",
       "      <th>1 000 Places to See Before You Die</th>\n",
       "      <td>0.0</td>\n",
       "      <td>0.0</td>\n",
       "      <td>0.0</td>\n",
       "      <td>0.0</td>\n",
       "      <td>0.0</td>\n",
       "      <td>0.0</td>\n",
       "      <td>0.0</td>\n",
       "      <td>0.0</td>\n",
       "      <td>0.0</td>\n",
       "      <td>0.0</td>\n",
       "      <td>...</td>\n",
       "      <td>0.0</td>\n",
       "      <td>0.0</td>\n",
       "      <td>0.0</td>\n",
       "      <td>0.0</td>\n",
       "      <td>0.0</td>\n",
       "      <td>0.0</td>\n",
       "      <td>0.0</td>\n",
       "      <td>0.0</td>\n",
       "      <td>0.0</td>\n",
       "      <td>0.0</td>\n",
       "    </tr>\n",
       "    <tr>\n",
       "      <th>10 lb Penalty</th>\n",
       "      <td>0.0</td>\n",
       "      <td>0.0</td>\n",
       "      <td>0.0</td>\n",
       "      <td>0.0</td>\n",
       "      <td>0.0</td>\n",
       "      <td>0.0</td>\n",
       "      <td>0.0</td>\n",
       "      <td>0.0</td>\n",
       "      <td>0.0</td>\n",
       "      <td>0.0</td>\n",
       "      <td>...</td>\n",
       "      <td>0.0</td>\n",
       "      <td>0.0</td>\n",
       "      <td>0.0</td>\n",
       "      <td>0.0</td>\n",
       "      <td>0.0</td>\n",
       "      <td>0.0</td>\n",
       "      <td>0.0</td>\n",
       "      <td>0.0</td>\n",
       "      <td>0.0</td>\n",
       "      <td>0.0</td>\n",
       "    </tr>\n",
       "  </tbody>\n",
       "</table>\n",
       "<p>5 rows × 11119 columns</p>\n",
       "</div>"
      ],
      "text/plain": [
       "bookID                                              1.0      2.0      4.0      \\\n",
       "title                                                                           \n",
       "2023-11-09 00:00:00                                     0.0      0.0      0.0   \n",
       "  said the shotgun to the head.                         0.0      0.0      0.0   \n",
       "$30 Film School: How to Write  Direct  Produce ...      0.0      0.0      0.0   \n",
       "1 000 Places to See Before You Die                      0.0      0.0      0.0   \n",
       "10 lb Penalty                                           0.0      0.0      0.0   \n",
       "\n",
       "bookID                                              5.0      8.0      9.0      \\\n",
       "title                                                                           \n",
       "2023-11-09 00:00:00                                     0.0      0.0      0.0   \n",
       "  said the shotgun to the head.                         0.0      0.0      0.0   \n",
       "$30 Film School: How to Write  Direct  Produce ...      0.0      0.0      0.0   \n",
       "1 000 Places to See Before You Die                      0.0      0.0      0.0   \n",
       "10 lb Penalty                                           0.0      0.0      0.0   \n",
       "\n",
       "bookID                                              10.0     12.0     13.0     \\\n",
       "title                                                                           \n",
       "2023-11-09 00:00:00                                     0.0      0.0      0.0   \n",
       "  said the shotgun to the head.                         0.0      0.0      0.0   \n",
       "$30 Film School: How to Write  Direct  Produce ...      0.0      0.0      0.0   \n",
       "1 000 Places to See Before You Die                      0.0      0.0      0.0   \n",
       "10 lb Penalty                                           0.0      0.0      0.0   \n",
       "\n",
       "bookID                                              14.0     ...  45617.0  \\\n",
       "title                                                        ...            \n",
       "2023-11-09 00:00:00                                     0.0  ...      0.0   \n",
       "  said the shotgun to the head.                         0.0  ...      0.0   \n",
       "$30 Film School: How to Write  Direct  Produce ...      0.0  ...      0.0   \n",
       "1 000 Places to See Before You Die                      0.0  ...      0.0   \n",
       "10 lb Penalty                                           0.0  ...      0.0   \n",
       "\n",
       "bookID                                              45623.0  45625.0  45626.0  \\\n",
       "title                                                                           \n",
       "2023-11-09 00:00:00                                     0.0      0.0      0.0   \n",
       "  said the shotgun to the head.                         0.0      0.0      0.0   \n",
       "$30 Film School: How to Write  Direct  Produce ...      0.0      0.0      0.0   \n",
       "1 000 Places to See Before You Die                      0.0      0.0      0.0   \n",
       "10 lb Penalty                                           0.0      0.0      0.0   \n",
       "\n",
       "bookID                                              45630.0  45631.0  45633.0  \\\n",
       "title                                                                           \n",
       "2023-11-09 00:00:00                                     0.0      0.0      0.0   \n",
       "  said the shotgun to the head.                         0.0      0.0      0.0   \n",
       "$30 Film School: How to Write  Direct  Produce ...      0.0      0.0      0.0   \n",
       "1 000 Places to See Before You Die                      0.0      0.0      0.0   \n",
       "10 lb Penalty                                           0.0      0.0      0.0   \n",
       "\n",
       "bookID                                              45634.0  45639.0  45641.0  \n",
       "title                                                                          \n",
       "2023-11-09 00:00:00                                     0.0      0.0      0.0  \n",
       "  said the shotgun to the head.                         0.0      0.0      0.0  \n",
       "$30 Film School: How to Write  Direct  Produce ...      0.0      0.0      0.0  \n",
       "1 000 Places to See Before You Die                      0.0      0.0      0.0  \n",
       "10 lb Penalty                                           0.0      0.0      0.0  \n",
       "\n",
       "[5 rows x 11119 columns]"
      ]
     },
     "execution_count": 15,
     "metadata": {},
     "output_type": "execute_result"
    }
   ],
   "source": [
    "book_pivot.fillna(0,inplace=True)\n",
    "book_pivot.head()"
   ]
  },
  {
   "cell_type": "code",
   "execution_count": 16,
   "id": "df1cb7bb",
   "metadata": {
    "execution": {
     "iopub.execute_input": "2023-12-07T08:08:17.710953Z",
     "iopub.status.busy": "2023-12-07T08:08:17.710513Z",
     "iopub.status.idle": "2023-12-07T08:08:18.202091Z",
     "shell.execute_reply": "2023-12-07T08:08:18.200753Z"
    },
    "papermill": {
     "duration": 0.523663,
     "end_time": "2023-12-07T08:08:18.205033",
     "exception": false,
     "start_time": "2023-12-07T08:08:17.681370",
     "status": "completed"
    },
    "tags": []
   },
   "outputs": [],
   "source": [
    "from sklearn.neighbors import NearestNeighbors\n",
    "model=NearestNeighbors(algorithm='brute')"
   ]
  },
  {
   "cell_type": "code",
   "execution_count": 17,
   "id": "f0f99785",
   "metadata": {},
   "outputs": [],
   "source": [
    "from scipy.sparse import csr_matrix\n",
    "book_sparse=csr_matrix(book_pivot)"
   ]
  },
  {
   "cell_type": "code",
   "execution_count": 18,
   "id": "2caf8673",
   "metadata": {
    "execution": {
     "iopub.execute_input": "2023-12-07T08:08:18.260324Z",
     "iopub.status.busy": "2023-12-07T08:08:18.259434Z",
     "iopub.status.idle": "2023-12-07T08:08:18.272184Z",
     "shell.execute_reply": "2023-12-07T08:08:18.271038Z"
    },
    "papermill": {
     "duration": 0.04423,
     "end_time": "2023-12-07T08:08:18.274762",
     "exception": false,
     "start_time": "2023-12-07T08:08:18.230532",
     "status": "completed"
    },
    "tags": []
   },
   "outputs": [
    {
     "data": {
      "text/html": [
       "<style>#sk-container-id-1 {color: black;}#sk-container-id-1 pre{padding: 0;}#sk-container-id-1 div.sk-toggleable {background-color: white;}#sk-container-id-1 label.sk-toggleable__label {cursor: pointer;display: block;width: 100%;margin-bottom: 0;padding: 0.3em;box-sizing: border-box;text-align: center;}#sk-container-id-1 label.sk-toggleable__label-arrow:before {content: \"▸\";float: left;margin-right: 0.25em;color: #696969;}#sk-container-id-1 label.sk-toggleable__label-arrow:hover:before {color: black;}#sk-container-id-1 div.sk-estimator:hover label.sk-toggleable__label-arrow:before {color: black;}#sk-container-id-1 div.sk-toggleable__content {max-height: 0;max-width: 0;overflow: hidden;text-align: left;background-color: #f0f8ff;}#sk-container-id-1 div.sk-toggleable__content pre {margin: 0.2em;color: black;border-radius: 0.25em;background-color: #f0f8ff;}#sk-container-id-1 input.sk-toggleable__control:checked~div.sk-toggleable__content {max-height: 200px;max-width: 100%;overflow: auto;}#sk-container-id-1 input.sk-toggleable__control:checked~label.sk-toggleable__label-arrow:before {content: \"▾\";}#sk-container-id-1 div.sk-estimator input.sk-toggleable__control:checked~label.sk-toggleable__label {background-color: #d4ebff;}#sk-container-id-1 div.sk-label input.sk-toggleable__control:checked~label.sk-toggleable__label {background-color: #d4ebff;}#sk-container-id-1 input.sk-hidden--visually {border: 0;clip: rect(1px 1px 1px 1px);clip: rect(1px, 1px, 1px, 1px);height: 1px;margin: -1px;overflow: hidden;padding: 0;position: absolute;width: 1px;}#sk-container-id-1 div.sk-estimator {font-family: monospace;background-color: #f0f8ff;border: 1px dotted black;border-radius: 0.25em;box-sizing: border-box;margin-bottom: 0.5em;}#sk-container-id-1 div.sk-estimator:hover {background-color: #d4ebff;}#sk-container-id-1 div.sk-parallel-item::after {content: \"\";width: 100%;border-bottom: 1px solid gray;flex-grow: 1;}#sk-container-id-1 div.sk-label:hover label.sk-toggleable__label {background-color: #d4ebff;}#sk-container-id-1 div.sk-serial::before {content: \"\";position: absolute;border-left: 1px solid gray;box-sizing: border-box;top: 0;bottom: 0;left: 50%;z-index: 0;}#sk-container-id-1 div.sk-serial {display: flex;flex-direction: column;align-items: center;background-color: white;padding-right: 0.2em;padding-left: 0.2em;position: relative;}#sk-container-id-1 div.sk-item {position: relative;z-index: 1;}#sk-container-id-1 div.sk-parallel {display: flex;align-items: stretch;justify-content: center;background-color: white;position: relative;}#sk-container-id-1 div.sk-item::before, #sk-container-id-1 div.sk-parallel-item::before {content: \"\";position: absolute;border-left: 1px solid gray;box-sizing: border-box;top: 0;bottom: 0;left: 50%;z-index: -1;}#sk-container-id-1 div.sk-parallel-item {display: flex;flex-direction: column;z-index: 1;position: relative;background-color: white;}#sk-container-id-1 div.sk-parallel-item:first-child::after {align-self: flex-end;width: 50%;}#sk-container-id-1 div.sk-parallel-item:last-child::after {align-self: flex-start;width: 50%;}#sk-container-id-1 div.sk-parallel-item:only-child::after {width: 0;}#sk-container-id-1 div.sk-dashed-wrapped {border: 1px dashed gray;margin: 0 0.4em 0.5em 0.4em;box-sizing: border-box;padding-bottom: 0.4em;background-color: white;}#sk-container-id-1 div.sk-label label {font-family: monospace;font-weight: bold;display: inline-block;line-height: 1.2em;}#sk-container-id-1 div.sk-label-container {text-align: center;}#sk-container-id-1 div.sk-container {/* jupyter's `normalize.less` sets `[hidden] { display: none; }` but bootstrap.min.css set `[hidden] { display: none !important; }` so we also need the `!important` here to be able to override the default hidden behavior on the sphinx rendered scikit-learn.org. See: https://github.com/scikit-learn/scikit-learn/issues/21755 */display: inline-block !important;position: relative;}#sk-container-id-1 div.sk-text-repr-fallback {display: none;}</style><div id=\"sk-container-id-1\" class=\"sk-top-container\"><div class=\"sk-text-repr-fallback\"><pre>NearestNeighbors(algorithm=&#x27;brute&#x27;)</pre><b>In a Jupyter environment, please rerun this cell to show the HTML representation or trust the notebook. <br />On GitHub, the HTML representation is unable to render, please try loading this page with nbviewer.org.</b></div><div class=\"sk-container\" hidden><div class=\"sk-item\"><div class=\"sk-estimator sk-toggleable\"><input class=\"sk-toggleable__control sk-hidden--visually\" id=\"sk-estimator-id-1\" type=\"checkbox\" checked><label for=\"sk-estimator-id-1\" class=\"sk-toggleable__label sk-toggleable__label-arrow\">NearestNeighbors</label><div class=\"sk-toggleable__content\"><pre>NearestNeighbors(algorithm=&#x27;brute&#x27;)</pre></div></div></div></div></div>"
      ],
      "text/plain": [
       "NearestNeighbors(algorithm='brute')"
      ]
     },
     "execution_count": 18,
     "metadata": {},
     "output_type": "execute_result"
    }
   ],
   "source": [
    "model.fit(book_sparse)"
   ]
  },
  {
   "cell_type": "code",
   "execution_count": 19,
   "id": "70d182b6",
   "metadata": {
    "execution": {
     "iopub.execute_input": "2023-12-07T08:08:18.327896Z",
     "iopub.status.busy": "2023-12-07T08:08:18.327485Z",
     "iopub.status.idle": "2023-12-07T08:08:18.335756Z",
     "shell.execute_reply": "2023-12-07T08:08:18.334543Z"
    },
    "papermill": {
     "duration": 0.038181,
     "end_time": "2023-12-07T08:08:18.338578",
     "exception": false,
     "start_time": "2023-12-07T08:08:18.300397",
     "status": "completed"
    },
    "tags": []
   },
   "outputs": [
    {
     "data": {
      "text/plain": [
       "(11119,)"
      ]
     },
     "execution_count": 19,
     "metadata": {},
     "output_type": "execute_result"
    }
   ],
   "source": [
    "book_pivot.iloc[240].shape"
   ]
  },
  {
   "cell_type": "code",
   "execution_count": 20,
   "id": "6b46df4b",
   "metadata": {
    "execution": {
     "iopub.execute_input": "2023-12-07T08:08:18.393988Z",
     "iopub.status.busy": "2023-12-07T08:08:18.393570Z",
     "iopub.status.idle": "2023-12-07T08:08:18.410060Z",
     "shell.execute_reply": "2023-12-07T08:08:18.408724Z"
    },
    "papermill": {
     "duration": 0.047931,
     "end_time": "2023-12-07T08:08:18.412949",
     "exception": false,
     "start_time": "2023-12-07T08:08:18.365018",
     "status": "completed"
    },
    "tags": []
   },
   "outputs": [],
   "source": [
    "distances,suggestions=model.kneighbors(book_pivot.iloc[240].values.reshape(1,-1),n_neighbors=6)"
   ]
  },
  {
   "cell_type": "code",
   "execution_count": 21,
   "id": "99f1add0",
   "metadata": {
    "execution": {
     "iopub.execute_input": "2023-12-07T08:08:18.468339Z",
     "iopub.status.busy": "2023-12-07T08:08:18.467935Z",
     "iopub.status.idle": "2023-12-07T08:08:18.476056Z",
     "shell.execute_reply": "2023-12-07T08:08:18.474579Z"
    },
    "papermill": {
     "duration": 0.038911,
     "end_time": "2023-12-07T08:08:18.478586",
     "exception": false,
     "start_time": "2023-12-07T08:08:18.439675",
     "status": "completed"
    },
    "tags": []
   },
   "outputs": [
    {
     "data": {
      "text/plain": [
       "array([[ 240,  555,  876, 1183,  653,  537]], dtype=int64)"
      ]
     },
     "execution_count": 21,
     "metadata": {},
     "output_type": "execute_result"
    }
   ],
   "source": [
    "suggestions"
   ]
  },
  {
   "cell_type": "code",
   "execution_count": 22,
   "id": "f8d85f4b",
   "metadata": {
    "execution": {
     "iopub.execute_input": "2023-12-07T08:08:18.534684Z",
     "iopub.status.busy": "2023-12-07T08:08:18.534201Z",
     "iopub.status.idle": "2023-12-07T08:08:18.542080Z",
     "shell.execute_reply": "2023-12-07T08:08:18.540739Z"
    },
    "papermill": {
     "duration": 0.039381,
     "end_time": "2023-12-07T08:08:18.544574",
     "exception": false,
     "start_time": "2023-12-07T08:08:18.505193",
     "status": "completed"
    },
    "tags": []
   },
   "outputs": [
    {
     "data": {
      "text/plain": [
       "array([[0.  , 4.18, 4.18, 4.18, 4.18, 4.18]])"
      ]
     },
     "execution_count": 22,
     "metadata": {},
     "output_type": "execute_result"
    }
   ],
   "source": [
    "distances"
   ]
  },
  {
   "cell_type": "code",
   "execution_count": 23,
   "id": "b1cc5820",
   "metadata": {
    "execution": {
     "iopub.execute_input": "2023-12-07T08:08:18.602224Z",
     "iopub.status.busy": "2023-12-07T08:08:18.601787Z",
     "iopub.status.idle": "2023-12-07T08:08:18.620156Z",
     "shell.execute_reply": "2023-12-07T08:08:18.618978Z"
    },
    "papermill": {
     "duration": 0.050121,
     "end_time": "2023-12-07T08:08:18.622762",
     "exception": false,
     "start_time": "2023-12-07T08:08:18.572641",
     "status": "completed"
    },
    "tags": []
   },
   "outputs": [
    {
     "data": {
      "text/plain": [
       "array([0., 0., 0., ..., 0., 0., 0.])"
      ]
     },
     "execution_count": 23,
     "metadata": {},
     "output_type": "execute_result"
    }
   ],
   "source": [
    "book_pivot.iloc[240].values"
   ]
  },
  {
   "cell_type": "code",
   "execution_count": 24,
   "id": "f1167415",
   "metadata": {
    "execution": {
     "iopub.execute_input": "2023-12-07T08:08:18.680538Z",
     "iopub.status.busy": "2023-12-07T08:08:18.679860Z",
     "iopub.status.idle": "2023-12-07T08:08:18.686693Z",
     "shell.execute_reply": "2023-12-07T08:08:18.685417Z"
    },
    "papermill": {
     "duration": 0.037918,
     "end_time": "2023-12-07T08:08:18.689088",
     "exception": false,
     "start_time": "2023-12-07T08:08:18.651170",
     "status": "completed"
    },
    "tags": []
   },
   "outputs": [
    {
     "name": "stdout",
     "output_type": "stream",
     "text": [
      "Index(['A Perfect Vacuum', 'American Writers  Supplement VIII',\n",
      "       'Beckett Football Card Price Guide',\n",
      "       'Brodie's notes on Aldous Huxley's brave new world',\n",
      "       'Anthony Thwaite: In Conversation With Peter Dale and Ian Hamilton',\n",
      "       'American Film Guide'],\n",
      "      dtype='object', name='title')\n"
     ]
    }
   ],
   "source": [
    "for i in range(len(suggestions)):\n",
    "    print(book_pivot.index[suggestions[i]])"
   ]
  },
  {
   "cell_type": "code",
   "execution_count": 25,
   "id": "81590aaf",
   "metadata": {
    "execution": {
     "iopub.execute_input": "2023-12-07T08:08:18.814689Z",
     "iopub.status.busy": "2023-12-07T08:08:18.813932Z",
     "iopub.status.idle": "2023-12-07T08:08:18.821807Z",
     "shell.execute_reply": "2023-12-07T08:08:18.820754Z"
    },
    "papermill": {
     "duration": 0.038934,
     "end_time": "2023-12-07T08:08:18.824610",
     "exception": false,
     "start_time": "2023-12-07T08:08:18.785676",
     "status": "completed"
    },
    "tags": []
   },
   "outputs": [],
   "source": [
    "def recommend_book(book_name):\n",
    "    book_id=np.where(book_pivot.index==book_name)[0][0]\n",
    "    distances,suggestions=model.kneighbors(book_pivot.iloc[book_id].values.reshape(1,-1),n_neighbors=6)\n",
    "    \n",
    "    for i in range(len(suggestions)):\n",
    "            print(book_pivot.index[suggestions[i]])"
   ]
  },
  {
   "cell_type": "code",
   "execution_count": 26,
   "id": "92a7571d",
   "metadata": {
    "execution": {
     "iopub.execute_input": "2023-12-07T08:08:18.883534Z",
     "iopub.status.busy": "2023-12-07T08:08:18.882864Z",
     "iopub.status.idle": "2023-12-07T08:08:18.891027Z",
     "shell.execute_reply": "2023-12-07T08:08:18.889777Z"
    },
    "papermill": {
     "duration": 0.039841,
     "end_time": "2023-12-07T08:08:18.893452",
     "exception": false,
     "start_time": "2023-12-07T08:08:18.853611",
     "status": "completed"
    },
    "tags": []
   },
   "outputs": [
    {
     "name": "stdout",
     "output_type": "stream",
     "text": [
      "Index(['Exclusive', 'American Film Guide',\n",
      "       'Brodie's notes on Aldous Huxley's brave new world',\n",
      "       'Beckett Football Card Price Guide',\n",
      "       'Anthony Thwaite: In Conversation With Peter Dale and Ian Hamilton',\n",
      "       'American Writers  Supplement VIII'],\n",
      "      dtype='object', name='title')\n"
     ]
    }
   ],
   "source": [
    "recommend_book('Exclusive')"
   ]
  }
 ],
 "metadata": {
  "kaggle": {
   "accelerator": "none",
   "dataSources": [
    {
     "datasetId": 1004280,
     "sourceId": 5624361,
     "sourceType": "datasetVersion"
    }
   ],
   "dockerImageVersionId": 30587,
   "isGpuEnabled": false,
   "isInternetEnabled": true,
   "language": "python",
   "sourceType": "notebook"
  },
  "kernelspec": {
   "display_name": "Python 3 (ipykernel)",
   "language": "python",
   "name": "python3"
  },
  "language_info": {
   "codemirror_mode": {
    "name": "ipython",
    "version": 3
   },
   "file_extension": ".py",
   "mimetype": "text/x-python",
   "name": "python",
   "nbconvert_exporter": "python",
   "pygments_lexer": "ipython3",
   "version": "3.11.5"
  },
  "papermill": {
   "default_parameters": {},
   "duration": 18.216673,
   "end_time": "2023-12-07T08:08:19.743636",
   "environment_variables": {},
   "exception": null,
   "input_path": "__notebook__.ipynb",
   "output_path": "__notebook__.ipynb",
   "parameters": {},
   "start_time": "2023-12-07T08:08:01.526963",
   "version": "2.4.0"
  }
 },
 "nbformat": 4,
 "nbformat_minor": 5
}
